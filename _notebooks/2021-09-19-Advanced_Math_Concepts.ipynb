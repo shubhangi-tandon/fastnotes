{
 "cells": [
  {
   "cell_type": "markdown",
   "id": "1d8dd666-fef2-4bfb-be3f-6b502eb4aaf5",
   "metadata": {},
   "source": [
    "# Advanced Math for DL\n",
    "> Advanced Mathematical concepts for Deep Learning\n",
    "\n",
    "- toc: true \n",
    "- badges: true\n",
    "- comments: false\n",
    "- categories: [jupyter]\n"
   ]
  },
  {
   "cell_type": "markdown",
   "id": "1e0e1e98-0286-4298-bb2a-5bc3ccf90700",
   "metadata": {
    "tags": []
   },
   "source": [
    "## Riemannian manifold\n",
    "> Pronounce ree-mai-nian manifold\n",
    "    \n",
    "    - A manifold with an inner product defined in the tangent space at each point. This allows us to measure angles at a point or measure curves. We can measure length of the curves\n",
    "    - Has to do with inner products of tangents\n",
    "    Think of Manifold of being embedded in Rn. \n",
    "    - Think of a tangential direction. Head on the surfa"
   ]
  },
  {
   "cell_type": "markdown",
   "id": "e86f8798-8d35-40c7-91a8-f089f05f05c6",
   "metadata": {},
   "source": [
    "### What is a Manifold\n",
    "\n",
    "> A topological space - a set with a topology which is understood.  It locally resembles Euclidean Space near each point. An n-dimensional manifold is a topological space with the property that each point has a neighbourhood and is like an open subset of n-dimensional Eucliean space. \n",
    "\n",
    "> One dimensional manifolds - lines and circles (not figure eights)\n",
    "> Two dimensional maniforlds - surfaces eg plane, sphere\n",
    "\n",
    "> Surface of the earth - looks like a manifold\n",
    "\n",
    "> Rotation Space (S03) - 3 dimensional Rotation Space \n",
    "\n",
    "> Positive Definite Matrices - Form a cone (n xn matrix sits in R(n^2)\n",
    "### Differentiable Manifold \n",
    "    - These are important as the differentiable structure allows calculus to be done . Globally drfined differential structure, locally similar enough to vector space. "
   ]
  },
  {
   "cell_type": "markdown",
   "id": "5cb58db9-2ec1-4fec-bae1-f90f1f125b16",
   "metadata": {},
   "source": [
    "## Hilbert Space and Inner Product\n",
    "\n",
    "    - Hilbert Space is a vector space with an inner product (dot product). Has to be complete under convergance\n",
    "        - Think of it as infinite dimension which is not the case\n",
    "        - It has a norm which is a distance function defined on the vector space  \n",
    "\n"
   ]
  },
  {
   "cell_type": "code",
   "execution_count": null,
   "id": "e8f5bd2c-64a1-44e1-a8f9-c718b6d4d145",
   "metadata": {},
   "outputs": [],
   "source": []
  },
  {
   "cell_type": "markdown",
   "id": "cf16e8b2-1b7f-44b2-9ef4-52a84f67b7a2",
   "metadata": {},
   "source": [
    "### Resources\n",
    "\n",
    "[[1]](https://www.youtube.com/watch?v=MtZV82LCNHc)  Youtube Lecture"
   ]
  },
  {
   "cell_type": "code",
   "execution_count": null,
   "id": "2f8178d6-6814-4ca1-aa87-42d88312f591",
   "metadata": {},
   "outputs": [],
   "source": []
  }
 ],
 "metadata": {
  "kernelspec": {
   "display_name": "Python 3 (ipykernel)",
   "language": "python",
   "name": "python3"
  },
  "language_info": {
   "codemirror_mode": {
    "name": "ipython",
    "version": 3
   },
   "file_extension": ".py",
   "mimetype": "text/x-python",
   "name": "python",
   "nbconvert_exporter": "python",
   "pygments_lexer": "ipython3",
   "version": "3.8.2"
  }
 },
 "nbformat": 4,
 "nbformat_minor": 5
}
