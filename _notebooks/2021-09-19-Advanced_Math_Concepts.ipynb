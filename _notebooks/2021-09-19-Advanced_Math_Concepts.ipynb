{
 "cells": [
  {
   "cell_type": "markdown",
   "id": "1d8dd666-fef2-4bfb-be3f-6b502eb4aaf5",
   "metadata": {},
   "source": [
    "# Advanced Math for DL\n",
    "> Advanced Mathematical concepts for Deep Learning\n",
    "\n",
    "- toc: true \n",
    "- badges: true\n",
    "- comments: false\n",
    "- categories: [jupyter]\n"
   ]
  },
  {
   "cell_type": "markdown",
   "id": "1e0e1e98-0286-4298-bb2a-5bc3ccf90700",
   "metadata": {
    "tags": []
   },
   "source": [
    "## Riemannian manifold\n",
    "\n"
   ]
  },
  {
   "cell_type": "markdown",
   "id": "e86f8798-8d35-40c7-91a8-f089f05f05c6",
   "metadata": {},
   "source": [
    "### What is a Manifold\n",
    "\n",
    "> A topological space - a set with a topology which is understood.  It locally resembles Euclidean Space near each point. An n-dimensional manifold is a topological space with the property that each point has a neighbourhood and is like an open subset of n-dimensional Eucliean space. \n",
    "\n",
    "> One dimensional manifolds - lines and circles (not figure eights)\n",
    "> Two dimensional maniforlds - surfaces eg plane, sphere\n",
    "\n",
    "### Differentiable Manifold \n",
    "    - These are important as the differentiable structure allows calculus to be done . Globally drfined differential structure, locally similar enough to vector space. "
   ]
  },
  {
   "cell_type": "code",
   "execution_count": null,
   "id": "7712c865-62fc-49a2-9631-6b4ba40fad0e",
   "metadata": {},
   "outputs": [],
   "source": []
  }
 ],
 "metadata": {
  "kernelspec": {
   "display_name": "Python 3 (ipykernel)",
   "language": "python",
   "name": "python3"
  },
  "language_info": {
   "codemirror_mode": {
    "name": "ipython",
    "version": 3
   },
   "file_extension": ".py",
   "mimetype": "text/x-python",
   "name": "python",
   "nbconvert_exporter": "python",
   "pygments_lexer": "ipython3",
   "version": "3.8.2"
  }
 },
 "nbformat": 4,
 "nbformat_minor": 5
}
