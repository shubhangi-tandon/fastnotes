{
 "cells": [
  {
   "cell_type": "markdown",
   "id": "4e35fbed-b4c2-405a-94e5-7e0ee0620677",
   "metadata": {},
   "source": [
    "# Bias in our Machine Learning Systems\n",
    "> Understanding how Bias can affect the outcome of our Machine Learning Algorithms \n",
    "\n",
    "- toc: true \n",
    "- badges: true\n",
    "- comments: false\n",
    "- categories: [jupyter]\n"
   ]
  },
  {
   "cell_type": "markdown",
   "id": "67abe41d-8f19-4fb0-810b-f25af7550e7c",
   "metadata": {},
   "source": [
    "### What is Bias\n",
    "    - Bias Variance Trade-off ?\n",
    "    - Types of bias \n",
    "        \n",
    "        - Presentation Bias\n",
    "        - Conformation Bias\n",
    "        - Ethical implications of having Bias\n",
    "     - Feedback Loop (youtube recommending conspiracy theories)\n",
    "         - Reliance on metrics is a fundamental challenge for AI\n",
    "     - Software to diagnose coverage for health care\n",
    "     - How can we work against it \n",
    "     - Is changing our data the only way ?\n",
    "     - Tech Ethics syllabi \n",
    " #### Resources\n",
    "   [Important Paper by Harini Suresh](https://harinisuresh.medium.com/the-problem-with-biased-data-5700005e514)"
   ]
  },
  {
   "cell_type": "markdown",
   "id": "52f92e91-4e78-4984-b49b-3c2c11c320eb",
   "metadata": {},
   "source": []
  },
  {
   "cell_type": "code",
   "execution_count": 2,
   "id": "41718835-6096-4447-9cf4-d25dc49e84be",
   "metadata": {},
   "outputs": [],
   "source": [
    "import PIL\n"
   ]
  },
  {
   "cell_type": "code",
   "execution_count": null,
   "id": "0ece951b-c831-4b6f-b274-8986373ee37c",
   "metadata": {},
   "outputs": [],
   "source": []
  }
 ],
 "metadata": {
  "kernelspec": {
   "display_name": "Python 3 (ipykernel)",
   "language": "python",
   "name": "python3"
  },
  "language_info": {
   "codemirror_mode": {
    "name": "ipython",
    "version": 3
   },
   "file_extension": ".py",
   "mimetype": "text/x-python",
   "name": "python",
   "nbconvert_exporter": "python",
   "pygments_lexer": "ipython3",
   "version": "3.8.2"
  }
 },
 "nbformat": 4,
 "nbformat_minor": 5
}
