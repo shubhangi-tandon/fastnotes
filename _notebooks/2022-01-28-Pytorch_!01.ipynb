{
 "cells": [
  {
   "cell_type": "markdown",
   "id": "f1f28ba5-8d24-4184-8d5e-e431fa2129d8",
   "metadata": {},
   "source": [
    "# Pytorch 101\n",
    "> Some basic concepts of Pytorch\n",
    "\n",
    "- toc: true \n",
    "- badges: true\n",
    "- comments: false\n",
    "- categories: [jupyter]\n"
   ]
  },
  {
   "cell_type": "markdown",
   "id": "a5328a41-571c-499e-8d63-bfa8632daae9",
   "metadata": {},
   "source": [
    "### Reshape"
   ]
  },
  {
   "cell_type": "code",
   "execution_count": 4,
   "id": "12aa79f9-daea-4e79-9a5c-e0f837d46593",
   "metadata": {},
   "outputs": [],
   "source": [
    "import torch\n",
    "import time"
   ]
  },
  {
   "cell_type": "code",
   "execution_count": null,
   "id": "a6aca009-8b68-4502-9a16-38472be79ab5",
   "metadata": {},
   "outputs": [],
   "source": [
    "torch.reshape"
   ]
  }
 ],
 "metadata": {
  "kernelspec": {
   "display_name": "Python 3 (ipykernel)",
   "language": "python",
   "name": "python3"
  },
  "language_info": {
   "codemirror_mode": {
    "name": "ipython",
    "version": 3
   },
   "file_extension": ".py",
   "mimetype": "text/x-python",
   "name": "python",
   "nbconvert_exporter": "python",
   "pygments_lexer": "ipython3",
   "version": "3.8.2"
  }
 },
 "nbformat": 4,
 "nbformat_minor": 5
}
