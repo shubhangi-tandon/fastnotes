{
 "cells": [
  {
   "cell_type": "markdown",
   "id": "8dfe9085-97e3-43a3-ad25-4e6b2ae6dc82",
   "metadata": {},
   "source": [
    "# Contrastive V/S Triplet Loss\n",
    "> Going from pointwise to pairwise losses in Deep Learning\n",
    "\n",
    "- toc: true \n",
    "- badges: true\n",
    "- comments: false\n",
    "- categories: [jupyter]\n"
   ]
  },
  {
   "cell_type": "code",
   "execution_count": null,
   "id": "30c839e9-6f76-48f5-83f6-ad3444d2b47a",
   "metadata": {},
   "outputs": [],
   "source": []
  }
 ],
 "metadata": {
  "kernelspec": {
   "display_name": "Python 3 (ipykernel)",
   "language": "python",
   "name": "python3"
  },
  "language_info": {
   "codemirror_mode": {
    "name": "ipython",
    "version": 3
   },
   "file_extension": ".py",
   "mimetype": "text/x-python",
   "name": "python",
   "nbconvert_exporter": "python",
   "pygments_lexer": "ipython3",
   "version": "3.8.2"
  }
 },
 "nbformat": 4,
 "nbformat_minor": 5
}
