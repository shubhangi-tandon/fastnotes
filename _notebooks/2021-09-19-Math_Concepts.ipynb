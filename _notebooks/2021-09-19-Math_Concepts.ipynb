{
 "cells": [
  {
   "cell_type": "markdown",
   "id": "1d8dd666-fef2-4bfb-be3f-6b502eb4aaf5",
   "metadata": {},
   "source": [
    "# Math for DL\n",
    "> Advanced Mathematical concepts for Deep Learning\n",
    "\n",
    "- toc: true \n",
    "- badges: true\n",
    "- comments: false\n",
    "- categories: [jupyter]\n"
   ]
  },
  {
   "cell_type": "code",
   "execution_count": null,
   "id": "1698fe7a-79ba-4723-a3cd-6b99b0d19270",
   "metadata": {},
   "outputs": [],
   "source": []
  }
 ],
 "metadata": {
  "kernelspec": {
   "display_name": "Python 3 (ipykernel)",
   "language": "python",
   "name": "python3"
  },
  "language_info": {
   "codemirror_mode": {
    "name": "ipython",
    "version": 3
   },
   "file_extension": ".py",
   "mimetype": "text/x-python",
   "name": "python",
   "nbconvert_exporter": "python",
   "pygments_lexer": "ipython3",
   "version": "3.8.2"
  }
 },
 "nbformat": 4,
 "nbformat_minor": 5
}
