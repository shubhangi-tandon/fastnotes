{
 "cells": [
  {
   "cell_type": "code",
   "execution_count": 1,
   "id": "cd874562",
   "metadata": {},
   "outputs": [],
   "source": [
    "import pandas\n",
    "import numpy"
   ]
  },
  {
   "cell_type": "markdown",
   "id": "425b5c3d",
   "metadata": {},
   "source": [
    "# Multi Label Classification\n",
    "\n",
    "- Multiple labels can be present in an input\n",
    "\n",
    "## Loss functions for Multilabel classification\n",
    "### Why won't cross entropy work\n",
    "it uses log softmax and is used to pick one category or one winner\n",
    "\n",
    "### What is the loss function we need\n",
    "binary classiciation for each class - is it valid or not ?\n",
    "1 - sigmoid(loss) -> should be closer to 0 where label is 1 and sigmoid(loss) where label is 0 \n",
    "why ?\n",
    "binary cross entropy = tlogp + (1-t)log(1-p)\n",
    "when targ = 1   \n",
    "Binary cross entropy loss = logp\n",
    "when targ = 0\n",
    "bce = log(1-p)\n"
   ]
  },
  {
   "cell_type": "code",
   "execution_count": 3,
   "id": "b80d407c",
   "metadata": {},
   "outputs": [
    {
     "name": "stdout",
     "output_type": "stream",
     "text": [
      "this is a test\n"
     ]
    }
   ],
   "source": [
    "print(\"this is a test\")"
   ]
  },
  {
   "cell_type": "code",
   "execution_count": 4,
   "id": "a6c4325a",
   "metadata": {},
   "outputs": [],
   "source": [
    "import torch"
   ]
  },
  {
   "cell_type": "code",
   "execution_count": 5,
   "id": "f3c1abd3",
   "metadata": {},
   "outputs": [],
   "source": [
    "from torch.nn import BCEWithLogitsLoss"
   ]
  },
  {
   "cell_type": "code",
   "execution_count": null,
   "id": "099354d7",
   "metadata": {},
   "outputs": [],
   "source": [
    "BCEWithLogitsLoss"
   ]
  }
 ],
 "metadata": {
  "kernelspec": {
   "display_name": "Python 3 (ipykernel)",
   "language": "python",
   "name": "python3"
  },
  "language_info": {
   "codemirror_mode": {
    "name": "ipython",
    "version": 3
   },
   "file_extension": ".py",
   "mimetype": "text/x-python",
   "name": "python",
   "nbconvert_exporter": "python",
   "pygments_lexer": "ipython3",
   "version": "3.8.2"
  }
 },
 "nbformat": 4,
 "nbformat_minor": 5
}
