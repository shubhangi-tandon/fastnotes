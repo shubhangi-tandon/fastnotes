{
 "cells": [
  {
   "cell_type": "markdown",
   "id": "3451c949",
   "metadata": {},
   "source": [
    "# Navigating through linux\n",
    "> A tutorial of common commands that can make working through linux easy\n",
    "\n",
    "- toc: true \n",
    "- badges: true\n",
    "- comments: true\n",
    "- categories: [jupyter]\n"
   ]
  },
  {
   "cell_type": "markdown",
   "id": "f628829b",
   "metadata": {},
   "source": [
    "As a Machine Learning Practioner, Linux needs to be your best friend. Being proficient with some kind of linux shell - like bash can save you so much time. Here are some quick tips that can help you navigate through linux"
   ]
  },
  {
   "cell_type": "markdown",
   "id": "0478fd00",
   "metadata": {},
   "source": [
    "## Learn (and setup) your keyboard shortcuts"
   ]
  },
  {
   "cell_type": "code",
   "execution_count": null,
   "id": "72a92879",
   "metadata": {},
   "outputs": [],
   "source": [
    "## "
   ]
  }
 ],
 "metadata": {
  "kernelspec": {
   "display_name": "Python 3 (ipykernel)",
   "language": "python",
   "name": "python3"
  },
  "language_info": {
   "codemirror_mode": {
    "name": "ipython",
    "version": 3
   },
   "file_extension": ".py",
   "mimetype": "text/x-python",
   "name": "python",
   "nbconvert_exporter": "python",
   "pygments_lexer": "ipython3",
   "version": "3.8.2"
  }
 },
 "nbformat": 4,
 "nbformat_minor": 5
}
