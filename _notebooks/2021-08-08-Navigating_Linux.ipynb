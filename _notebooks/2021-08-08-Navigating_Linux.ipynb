{
 "cells": [
  {
   "cell_type": "markdown",
   "id": "c25f9ca1",
   "metadata": {},
   "source": [
    "# Bash made Easy\n",
    "> A tutorial of common commands that can make working through linux easy\n",
    "\n",
    "- toc: true \n",
    "- badges: true\n",
    "- comments: false\n",
    "- categories: [jupyter]\n"
   ]
  },
  {
   "cell_type": "markdown",
   "id": "ee979554",
   "metadata": {},
   "source": [
    "As a Machine Learning Practioner, Linux needs to be your best friend. Being proficient with some kind of linux shell - like bash can save you so much time. Here are some quick tips that can help you navigate through linux. This is a series of posts that will help you be more productive"
   ]
  },
  {
   "cell_type": "markdown",
   "id": "62b51f0d",
   "metadata": {},
   "source": [
    "## What is Bash and Why should I know it \n",
    "\n",
    "Bash is a very popular linux shell that you can use to navigate your Linux and Mac OsX Operating systems. "
   ]
  },
  {
   "cell_type": "markdown",
   "id": "4ed5ac5e",
   "metadata": {},
   "source": [
    "## Learn (and setup) your keyboard shortcuts\n"
   ]
  },
  {
   "cell_type": "markdown",
   "id": "77c43cee",
   "metadata": {},
   "source": [
    "## Vim - your linux editor"
   ]
  },
  {
   "cell_type": "markdown",
   "id": "d5187a4c",
   "metadata": {},
   "source": [
    "## "
   ]
  },
  {
   "cell_type": "code",
   "execution_count": null,
   "id": "98d10e5e",
   "metadata": {},
   "outputs": [],
   "source": []
  }
 ],
 "metadata": {
  "kernelspec": {
   "display_name": "Python 3 (ipykernel)",
   "language": "python",
   "name": "python3"
  },
  "language_info": {
   "codemirror_mode": {
    "name": "ipython",
    "version": 3
   },
   "file_extension": ".py",
   "mimetype": "text/x-python",
   "name": "python",
   "nbconvert_exporter": "python",
   "pygments_lexer": "ipython3",
   "version": "3.8.2"
  }
 },
 "nbformat": 4,
 "nbformat_minor": 5
}
