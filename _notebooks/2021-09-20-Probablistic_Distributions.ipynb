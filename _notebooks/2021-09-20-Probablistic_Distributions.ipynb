{
 "cells": [
  {
   "cell_type": "markdown",
   "id": "4633518c-b4c6-402d-8a42-8fa1e9b57af4",
   "metadata": {},
   "source": [
    "# Probablistic Distributions\n",
    "> Understanding and Applying Probablistic Distributions\n",
    "\n",
    "- toc: true \n",
    "- badges: true\n",
    "- comments: false\n",
    "- categories: [jupyter]\n"
   ]
  },
  {
   "cell_type": "markdown",
   "id": "53e87deb-f17b-4815-b21d-336736e25ae8",
   "metadata": {},
   "source": [
    "## Bernaulli Distribution\n",
    "\n",
    "    The simplest experiment has only 2 possible outcomes - 0 and 1.\n",
    "    if X is an outcome from such an experiment then X has the simplest type of nondegenerate distribution - member of the family of Bernoulli Distribition. \n",
    "\n"
   ]
  },
  {
   "cell_type": "markdown",
   "id": "1dcdbb96-e910-48cd-92f2-a78810c32561",
   "metadata": {},
   "source": [
    "## Binomial Distribution\n",
    "\n",
    "    If n Independent Random variables X1 ... Xn have the same Bernoilli distribution , then\n",
    "        - Their sum is equal to the number of Xis equal to 1\n",
    "        - Distribution of the sum is a member of the Binomial family"
   ]
  },
  {
   "cell_type": "markdown",
   "id": "c2889a0d-c998-4c8c-aad9-8d78cb219a13",
   "metadata": {},
   "source": [
    "## Beta Binomial Distribution"
   ]
  },
  {
   "cell_type": "markdown",
   "id": "989e0e66-71a9-45a5-bee6-e4163527027c",
   "metadata": {},
   "source": [
    "## Gaussian/Normal Distribution"
   ]
  },
  {
   "cell_type": "markdown",
   "id": "71344583-6605-4d53-af4c-c95f8c3b500a",
   "metadata": {},
   "source": [
    "## Poisson Distribution"
   ]
  },
  {
   "cell_type": "markdown",
   "id": "af8d5c7c-a60e-49e5-aae2-8c56b7948f75",
   "metadata": {},
   "source": [
    "## Students T Distribution"
   ]
  },
  {
   "cell_type": "code",
   "execution_count": null,
   "id": "ee53f61c-c234-4c52-be88-a5708e751571",
   "metadata": {},
   "outputs": [],
   "source": []
  }
 ],
 "metadata": {
  "kernelspec": {
   "display_name": "Python 3 (ipykernel)",
   "language": "python",
   "name": "python3"
  },
  "language_info": {
   "codemirror_mode": {
    "name": "ipython",
    "version": 3
   },
   "file_extension": ".py",
   "mimetype": "text/x-python",
   "name": "python",
   "nbconvert_exporter": "python",
   "pygments_lexer": "ipython3",
   "version": "3.8.2"
  }
 },
 "nbformat": 4,
 "nbformat_minor": 5
}
