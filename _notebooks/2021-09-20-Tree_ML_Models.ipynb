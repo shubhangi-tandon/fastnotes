{
 "cells": [
  {
   "cell_type": "markdown",
   "id": "10a2c5c8-adce-4f41-8bbe-49ac5fef606f",
   "metadata": {},
   "source": [
    "# Tree Based Machine Learning Models\n",
    "> Understanding Tree Based ML Algos like Random Forest, GBM, Decision Trees\n",
    "\n",
    "- toc: true \n",
    "- badges: true\n",
    "- comments: false\n",
    "- categories: [jupyter]\n"
   ]
  },
  {
   "cell_type": "code",
   "execution_count": null,
   "id": "626cee83-df76-49c8-a69f-80d95de30876",
   "metadata": {},
   "outputs": [],
   "source": []
  }
 ],
 "metadata": {
  "kernelspec": {
   "display_name": "Python 3 (ipykernel)",
   "language": "python",
   "name": "python3"
  },
  "language_info": {
   "codemirror_mode": {
    "name": "ipython",
    "version": 3
   },
   "file_extension": ".py",
   "mimetype": "text/x-python",
   "name": "python",
   "nbconvert_exporter": "python",
   "pygments_lexer": "ipython3",
   "version": "3.8.2"
  }
 },
 "nbformat": 4,
 "nbformat_minor": 5
}
