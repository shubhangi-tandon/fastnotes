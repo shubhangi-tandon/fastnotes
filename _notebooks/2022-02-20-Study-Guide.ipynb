{
 "cells": [
  {
   "cell_type": "markdown",
   "id": "e13a4475",
   "metadata": {},
   "source": [
    "# Study Guide\n",
    "> Study Guide for ML Interviews Prep\n",
    "\n",
    "- toc: true \n",
    "- badges: true\n",
    "- comments: false\n",
    "- categories: [jupyter]\n"
   ]
  },
  {
   "cell_type": "markdown",
   "id": "43998ff3",
   "metadata": {},
   "source": [
    "### Linear Regression\n",
    "\n",
    "1. What is Linear Regression ?\n",
    "    - Answer : If we assume that are input x has a linear relationship with the output y and that noise is normally defined, we can define y as a weighted sum of the elements in X. \n",
    "    \n",
    "    $$\\hat{Y} = \\sum ( W_i , X_i) + b $$ where X has i elements, W is the weight vector and B is the bias in our data\n",
    "\n",
    "\n",
    "2. What is Bias ? \n",
    "   - Answer : Bias (also called offset or intercept) - what value will y take if input is 0. It is also reflective of the error introduced by approximating a real life model, or how much the model prediction differs from the target value. Bias can also be introduced during modelling that assumes subject matter expertise about the data. A high bias can lead to underfitting. Bias is also used as regularization so that the model does not overfit to training data. \n",
    "   \n",
    "    __TLDR : High Bias Leads to Underfitting__\n",
    "    \n",
    "\n",
    "3. What is Variance\n",
    "    &nbsp;&nbsp;&nbsp;&nbspAnswer: Variance indicates how robust is your model to new data. A low variance means that you are certain about how the model will perform given new data. We want to have low variance in our model . Mathematically , variance error in the model is $$Var(f(x)) =E(X^2) - E(X)^2$$\n",
    "    \n",
    "    __TLDR : High Variance Leads to Overfitting__\n",
    "    \n",
    "\n",
    "\n",
    "4. What is Bias-Variance Tradeoff ?\n",
    "    - High Bias leads to underfitting and not learning enough from training data, and High Variance leads to overfitting on training data and not being robust enough for test data. The error on a model is a sym off the Bias, Variance and Irreducible Error of the model . \n",
    "    $$Err(x) = Bias^2 + Variance + Irreducible Error$$\n",
    "     - If the model is too simple(less features) then high bias and low variance\n",
    "     - If the model is complicated (more features) then low bias and high variance\n",
    "     - The tradeoff to find a good balance between bias and variance that minimizes the error is called Bias-Variance Tradeoff\n",
    "     \n",
    "     \n",
    "5. What is the Loss Function for Linear Regression ?\n",
    "    - Answer "
   ]
  },
  {
   "cell_type": "code",
   "execution_count": null,
   "id": "639d3951",
   "metadata": {},
   "outputs": [],
   "source": []
  }
 ],
 "metadata": {
  "kernelspec": {
   "display_name": "Python 3 (ipykernel)",
   "language": "python",
   "name": "python3"
  },
  "language_info": {
   "codemirror_mode": {
    "name": "ipython",
    "version": 3
   },
   "file_extension": ".py",
   "mimetype": "text/x-python",
   "name": "python",
   "nbconvert_exporter": "python",
   "pygments_lexer": "ipython3",
   "version": "3.8.2"
  }
 },
 "nbformat": 4,
 "nbformat_minor": 5
}
