{
 "cells": [
  {
   "cell_type": "markdown",
   "id": "33a6f4c1-8795-4594-b071-25d460d2b294",
   "metadata": {},
   "source": [
    "# Visualizing your Deep Learning Model\n",
    "> How to Visualize the results of your Deep Learning Model\n",
    "\n",
    "- toc: true \n",
    "- badges: true\n",
    "- comments: false\n",
    "- categories: [jupyter]\n"
   ]
  },
  {
   "cell_type": "markdown",
   "id": "59046043-c375-4a11-85eb-7a303918f0d3",
   "metadata": {
    "tags": []
   },
   "source": [
    "## TSNE\n",
    "\n",
    "  ### Perplexity\n",
    "      Perplexity lossely defines how to balance attention between local and global aspects of your data. Os a guess about the number of close neighbours each point has. Typical values are between 5 and 50\n",
    "    - For lower vals - TSNE tensds to spread out projected data with very little preservation of flobal structure\n",
    "    - Extremely high perplexity to begin seeing global structure - leads to. very high runtime\n",
    "  ### Interpretability\n",
    "      - Cluster sizes in tSNE plot mean nothing \n",
    "      - Distances between clusters might not mean anything\n",
    "      - Random noise doesn't always look random\n",
    "      "
   ]
  },
  {
   "cell_type": "code",
   "execution_count": null,
   "id": "192c00e5-9653-4f6b-8ded-b5085b828363",
   "metadata": {},
   "outputs": [],
   "source": []
  },
  {
   "cell_type": "markdown",
   "id": "5ae54825-fb78-4e7b-935b-4a9ced02ceb4",
   "metadata": {},
   "source": [
    "### PCA - Principal Component Analysis"
   ]
  },
  {
   "cell_type": "markdown",
   "id": "ebd1adcb-fd32-448c-8660-87b30ca33379",
   "metadata": {
    "tags": []
   },
   "source": [
    "## UMAP : Uniform Manifold Approximation and Projection for Dimension Reduction\n",
    "\n",
    "    - UMAP , like TSNE uses Graph Layput Algorithms to arrange data in low-dimensional space. \n",
    "        - Constructs a high dimensional graph of the data \n",
    "            - *Fuzzy Simplicial Complex* - Representation of weighted graph with edge weights representing the likelihood that two points ate connected\n",
    "            - Choose a radius (critical) - Extend a radius out from each point, connecting points in the radial distance of each other\n",
    "                - Small radius -> Isolated Clusters\n",
    "                - Large radius -> Connect Everything together\n",
    "            - Choose a radius locally based on the distance to each point's nth nearest neighbour\n",
    "            - Stipulate that each poibt ust be connected to atleast its closest neighbour - ensures local structure is preserved\n",
    "        - Optimises a low dimensional graph to be structurally as similar as possible (Like Student - Teacher ? )\n",
    "            - Same process as TSNE but few clever tricks to speed up the process\n",
    "[Reference](https://pair-code.github.io/understanding-umap/)"
   ]
  },
  {
   "cell_type": "markdown",
   "id": "24782e11-4546-465b-8b32-fb2644b5be98",
   "metadata": {},
   "source": [
    "### UMAP Parameters\n",
    "    - n_neighbours : number of approximate nearest neighbours used to contruct the initial high dim graph . As this number increases, UMAP connects more neighbouring points when constructing graph represention of high dim data\n",
    "    - min_dist : min dist b/w points in low dim space - How tighly UMAP clups points together . Low dist leads to more tightly packed embeddings"
   ]
  },
  {
   "cell_type": "markdown",
   "id": "ab92a5b7-201e-446a-bac1-4b02d5a1db0e",
   "metadata": {},
   "source": [
    "### UMAP v/s TSNE v/s PCA\n",
    "    - UMAP is often better at preserving global structure in final projection\n",
    "    - Inter-Cluster relations are potentially more meaningful than in t-SNE\n",
    "    - Compared to PCA - any given axis or distance in lower dimensin isn't directly interpretable"
   ]
  },
  {
   "cell_type": "markdown",
   "id": "4b4f652b-0d0b-4c3f-a24e-cdbfa3e74d80",
   "metadata": {},
   "source": [
    "### UMAP Usage\n",
    "\n",
    "> UMAP can be installed by either conda or pip. To install using pip execute the command \n",
    "   \n",
    "   > pip install umap-learn"
   ]
  },
  {
   "cell_type": "code",
   "execution_count": 3,
   "id": "c9d87279-0b20-4b5d-bcab-ef8b0ad00c1e",
   "metadata": {},
   "outputs": [
    {
     "name": "stdout",
     "output_type": "stream",
     "text": [
      "Collecting umap-learn\n",
      "  Downloading umap-learn-0.5.1.tar.gz (80 kB)\n",
      "\u001b[K     |████████████████████████████████| 80 kB 3.0 MB/s eta 0:00:01\n",
      "\u001b[?25hRequirement already satisfied: numpy>=1.17 in /Users/shtandon/Public/tfr/fastnotes/venv/lib/python3.8/site-packages (from umap-learn) (1.21.1)\n",
      "Requirement already satisfied: scikit-learn>=0.22 in /Users/shtandon/Public/tfr/fastnotes/venv/lib/python3.8/site-packages (from umap-learn) (0.24.2)\n",
      "Requirement already satisfied: scipy>=1.0 in /Users/shtandon/Public/tfr/fastnotes/venv/lib/python3.8/site-packages (from umap-learn) (1.7.1)\n",
      "Collecting numba>=0.49\n",
      "  Downloading numba-0.54.0-cp38-cp38-macosx_10_14_x86_64.whl (2.3 MB)\n",
      "\u001b[K     |████████████████████████████████| 2.3 MB 12.3 MB/s eta 0:00:01\n",
      "\u001b[?25hCollecting pynndescent>=0.5\n",
      "  Downloading pynndescent-0.5.4.tar.gz (1.1 MB)\n",
      "\u001b[K     |████████████████████████████████| 1.1 MB 58.5 MB/s eta 0:00:01\n",
      "\u001b[?25hCollecting numpy>=1.17\n",
      "  Downloading numpy-1.20.3-cp38-cp38-macosx_10_9_x86_64.whl (16.0 MB)\n",
      "\u001b[K     |████████████████████████████████| 16.0 MB 26.3 MB/s eta 0:00:01\n",
      "\u001b[?25hCollecting llvmlite<0.38,>=0.37.0rc1\n",
      "  Downloading llvmlite-0.37.0-cp38-cp38-macosx_10_9_x86_64.whl (19.1 MB)\n",
      "\u001b[K     |████████████████████████████████| 19.1 MB 27.3 MB/s eta 0:00:01\n",
      "\u001b[?25hRequirement already satisfied: setuptools in /Users/shtandon/Public/tfr/fastnotes/venv/lib/python3.8/site-packages (from numba>=0.49->umap-learn) (57.4.0)\n",
      "Requirement already satisfied: joblib>=0.11 in /Users/shtandon/Public/tfr/fastnotes/venv/lib/python3.8/site-packages (from pynndescent>=0.5->umap-learn) (1.0.1)\n",
      "Requirement already satisfied: threadpoolctl>=2.0.0 in /Users/shtandon/Public/tfr/fastnotes/venv/lib/python3.8/site-packages (from scikit-learn>=0.22->umap-learn) (2.2.0)\n",
      "Using legacy 'setup.py install' for umap-learn, since package 'wheel' is not installed.\n",
      "Using legacy 'setup.py install' for pynndescent, since package 'wheel' is not installed.\n",
      "Installing collected packages: numpy, llvmlite, numba, pynndescent, umap-learn\n",
      "  Attempting uninstall: numpy\n",
      "    Found existing installation: numpy 1.21.1\n",
      "    Uninstalling numpy-1.21.1:\n",
      "      Successfully uninstalled numpy-1.21.1\n",
      "    Running setup.py install for pynndescent ... \u001b[?25ldone\n",
      "\u001b[?25h    Running setup.py install for umap-learn ... \u001b[?25ldone\n",
      "\u001b[?25hSuccessfully installed llvmlite-0.37.0 numba-0.54.0 numpy-1.20.3 pynndescent-0.5.4 umap-learn-0.5.1\n",
      "\u001b[33mWARNING: You are using pip version 21.2.2; however, version 21.2.4 is available.\n",
      "You should consider upgrading via the '/Users/shtandon/Public/tfr/fastnotes/venv/bin/python -m pip install --upgrade pip' command.\u001b[0m\n"
     ]
    }
   ],
   "source": [
    "! pip install umap-learn"
   ]
  },
  {
   "cell_type": "code",
   "execution_count": 4,
   "id": "e8020227-f927-418a-8f50-617d6b3fa405",
   "metadata": {},
   "outputs": [],
   "source": [
    "import umap"
   ]
  },
  {
   "cell_type": "markdown",
   "id": "8d9ea47c-cc41-46ba-83c8-9f1cbb850871",
   "metadata": {},
   "source": [
    "## Scatter-GL"
   ]
  },
  {
   "cell_type": "code",
   "execution_count": null,
   "id": "c4c147d6-adf0-483f-b381-d478a91fd151",
   "metadata": {},
   "outputs": [],
   "source": []
  }
 ],
 "metadata": {
  "kernelspec": {
   "display_name": "Python 3 (ipykernel)",
   "language": "python",
   "name": "python3"
  },
  "language_info": {
   "codemirror_mode": {
    "name": "ipython",
    "version": 3
   },
   "file_extension": ".py",
   "mimetype": "text/x-python",
   "name": "python",
   "nbconvert_exporter": "python",
   "pygments_lexer": "ipython3",
   "version": "3.8.2"
  }
 },
 "nbformat": 4,
 "nbformat_minor": 5
}
