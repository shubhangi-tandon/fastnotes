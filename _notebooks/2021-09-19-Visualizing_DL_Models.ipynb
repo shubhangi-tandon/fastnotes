{
 "cells": [
  {
   "cell_type": "markdown",
   "id": "33a6f4c1-8795-4594-b071-25d460d2b294",
   "metadata": {},
   "source": [
    "# Visualizing your Deep Learning Model\n",
    "> How to Visualize the results of your Deep Learning Model\n",
    "\n",
    "- toc: true \n",
    "- badges: true\n",
    "- comments: false\n",
    "- categories: [jupyter]\n"
   ]
  },
  {
   "cell_type": "markdown",
   "id": "59046043-c375-4a11-85eb-7a303918f0d3",
   "metadata": {},
   "source": [
    "## TSNE\n",
    "\n",
    "  ### Perplexity\n",
    "    - For lower vals - TSNE tensds to spread out projected data with very little preservation of flobal structure\n",
    "    - Extremely high perplexity to begin seeing global structure - leads to. very high runtime\n"
   ]
  },
  {
   "cell_type": "markdown",
   "id": "5ae54825-fb78-4e7b-935b-4a9ced02ceb4",
   "metadata": {},
   "source": [
    "### PCA - Principal Component Analysis"
   ]
  },
  {
   "cell_type": "markdown",
   "id": "ebd1adcb-fd32-448c-8660-87b30ca33379",
   "metadata": {
    "tags": []
   },
   "source": [
    "## UMAP : Uniform Manifold Approximation and Projection for Dimension Reduction\n",
    "\n",
    "    - UMAP , like TSNE uses Graph Layput Algorithms to arrange data in low-dimensional space. \n",
    "        - Constructs a high dimensional graph of the data \n",
    "            - *Fuzzy Simplicial Complex* - Representation of weighted graph with edge weights representing the likelihood that two points ate connected\n",
    "            - Choose a radius (critical) - Extend a radius out from each point, connecting points in the radial distance of each other\n",
    "                - Small radius -> Isolated Clusters\n",
    "                - Large radius -> Connect Everything together\n",
    "            - Choose a radius locally based on the distance to each point's nth nearest neighbour\n",
    "            - Stipulate that each poibt ust be connected to atleast its closest neighbour - ensures local structure is preserved\n",
    "        - Optimises a low dimensional graph to be structurally as similar as possible (Like Student - Teacher ? )\n",
    "            - Same process as TSNE but few clever tricks to speed up the process\n",
    "[Reference](https://pair-code.github.io/understanding-umap/)"
   ]
  },
  {
   "cell_type": "markdown",
   "id": "24782e11-4546-465b-8b32-fb2644b5be98",
   "metadata": {},
   "source": [
    "### UMAP Parameters\n",
    "    - n_neighbours : number of approximate nearest neighbours used to contruct the initial high dim graph . As this number increases, UMAP connects more neighbouring points when constructing graph represention of high dim data\n",
    "    - min_dist : min dist b/w points in low dim space - How tighly UMAP clups points together . Low dist leads to more tightly packed embeddings"
   ]
  },
  {
   "cell_type": "markdown",
   "id": "ab92a5b7-201e-446a-bac1-4b02d5a1db0e",
   "metadata": {},
   "source": [
    "### UMAP v/s TSNE v/s PCA\n",
    "    - UMAP is often better at preserving global structure in final projection\n",
    "    - Inter-Cluster relations are potentially more meaningful than in t-SNE\n",
    "    - Compared to PCA - any given axis or distance in lower dimensin isn't directly interpretable"
   ]
  },
  {
   "cell_type": "markdown",
   "id": "8d9ea47c-cc41-46ba-83c8-9f1cbb850871",
   "metadata": {},
   "source": [
    "## Scatter-GL"
   ]
  },
  {
   "cell_type": "code",
   "execution_count": null,
   "id": "c4c147d6-adf0-483f-b381-d478a91fd151",
   "metadata": {},
   "outputs": [],
   "source": []
  }
 ],
 "metadata": {
  "kernelspec": {
   "display_name": "Python 3 (ipykernel)",
   "language": "python",
   "name": "python3"
  },
  "language_info": {
   "codemirror_mode": {
    "name": "ipython",
    "version": 3
   },
   "file_extension": ".py",
   "mimetype": "text/x-python",
   "name": "python",
   "nbconvert_exporter": "python",
   "pygments_lexer": "ipython3",
   "version": "3.8.2"
  }
 },
 "nbformat": 4,
 "nbformat_minor": 5
}
