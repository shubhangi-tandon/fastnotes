{
 "cells": [
  {
   "cell_type": "markdown",
   "id": "0a770b45-8d86-42e5-a469-2011cddd062c",
   "metadata": {},
   "source": [
    "# Pandas made easy\n",
    "> Tips and Tricks for using Pandas that increase a ML Engineer's efficiency\n",
    "\n",
    "- toc: true \n",
    "- badges: true\n",
    "- comments: false\n",
    "- categories: [jupyter]\n"
   ]
  },
  {
   "cell_type": "code",
   "execution_count": null,
   "id": "1d74fade-5217-48d3-8a8b-98294654e942",
   "metadata": {},
   "outputs": [],
   "source": []
  }
 ],
 "metadata": {
  "kernelspec": {
   "display_name": "Python 3 (ipykernel)",
   "language": "python",
   "name": "python3"
  },
  "language_info": {
   "codemirror_mode": {
    "name": "ipython",
    "version": 3
   },
   "file_extension": ".py",
   "mimetype": "text/x-python",
   "name": "python",
   "nbconvert_exporter": "python",
   "pygments_lexer": "ipython3",
   "version": "3.8.2"
  }
 },
 "nbformat": 4,
 "nbformat_minor": 5
}
